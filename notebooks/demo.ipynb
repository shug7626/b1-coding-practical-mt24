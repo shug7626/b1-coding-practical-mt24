{
 "cells": [
  {
   "cell_type": "code",
   "execution_count": 1,
   "metadata": {},
   "outputs": [],
   "source": [
    "# Add relevant Jupyter notebook extensions \n",
    "%load_ext autoreload\n",
    "%autoreload 2"
   ]
  },
  {
   "cell_type": "code",
   "execution_count": 2,
   "metadata": {},
   "outputs": [
    {
     "name": "stdout",
     "output_type": "stream",
     "text": [
      "['D:\\\\Isaac\\\\Oxford\\\\Year 3\\\\B1 Engineering Computation\\\\Scientific Coding\\\\b1-coding-practical-mt24', 'D:\\\\Isaac\\\\Python\\\\python313.zip', 'D:\\\\Isaac\\\\Python\\\\DLLs', 'D:\\\\Isaac\\\\Python\\\\Lib', 'D:\\\\Isaac\\\\Python', 'd:\\\\Isaac\\\\Oxford\\\\Year 3\\\\B1 Engineering Computation\\\\Scientific Coding\\\\b1-coding-practical-mt24\\\\.venv', '', 'd:\\\\Isaac\\\\Oxford\\\\Year 3\\\\B1 Engineering Computation\\\\Scientific Coding\\\\b1-coding-practical-mt24\\\\.venv\\\\Lib\\\\site-packages', 'd:\\\\Isaac\\\\Oxford\\\\Year 3\\\\B1 Engineering Computation\\\\Scientific Coding\\\\b1-coding-practical-mt24\\\\.venv\\\\Lib\\\\site-packages\\\\win32', 'd:\\\\Isaac\\\\Oxford\\\\Year 3\\\\B1 Engineering Computation\\\\Scientific Coding\\\\b1-coding-practical-mt24\\\\.venv\\\\Lib\\\\site-packages\\\\win32\\\\lib', 'd:\\\\Isaac\\\\Oxford\\\\Year 3\\\\B1 Engineering Computation\\\\Scientific Coding\\\\b1-coding-practical-mt24\\\\.venv\\\\Lib\\\\site-packages\\\\Pythonwin']\n"
     ]
    }
   ],
   "source": [
    "# You can double-check your Python path like this...\n",
    "import sys  \n",
    "print(sys.path)"
   ]
  },
  {
   "cell_type": "markdown",
   "metadata": {},
   "source": [
    "# Simulate closed-loop\n",
    "After implementing your control functionality, you can simulate the closed-loop with code that looks something like this..."
   ]
  },
  {
   "cell_type": "code",
   "execution_count": 20,
   "metadata": {},
   "outputs": [
    {
     "name": "stderr",
     "output_type": "stream",
     "text": [
      "<>:12: SyntaxWarning: invalid escape sequence '\\d'\n",
      "<>:12: SyntaxWarning: invalid escape sequence '\\d'\n",
      "C:\\Users\\Isaac\\AppData\\Local\\Temp\\ipykernel_15256\\2765463813.py:12: SyntaxWarning: invalid escape sequence '\\d'\n",
      "  mission = Mission.from_csv(\"\\data\")\n"
     ]
    },
    {
     "ename": "AttributeError",
     "evalue": "'NoneType' object has no attribute 'reference'",
     "output_type": "error",
     "traceback": [
      "\u001b[1;31m---------------------------------------------------------------------------\u001b[0m",
      "\u001b[1;31mAttributeError\u001b[0m                            Traceback (most recent call last)",
      "Cell \u001b[1;32mIn[20], line 14\u001b[0m\n\u001b[0;32m     11\u001b[0m closed_loop \u001b[38;5;241m=\u001b[39m ClosedLoop(sub, controller)\n\u001b[0;32m     12\u001b[0m mission \u001b[38;5;241m=\u001b[39m Mission\u001b[38;5;241m.\u001b[39mfrom_csv(\u001b[38;5;124m\"\u001b[39m\u001b[38;5;124m\\\u001b[39m\u001b[38;5;124mdata\u001b[39m\u001b[38;5;124m\"\u001b[39m)\n\u001b[1;32m---> 14\u001b[0m trajectory \u001b[38;5;241m=\u001b[39m \u001b[43mclosed_loop\u001b[49m\u001b[38;5;241;43m.\u001b[39;49m\u001b[43msimulate_with_random_disturbances\u001b[49m\u001b[43m(\u001b[49m\u001b[43mmission\u001b[49m\u001b[43m)\u001b[49m\n\u001b[0;32m     15\u001b[0m trajectory\u001b[38;5;241m.\u001b[39mplot_completed_mission(mission)\n",
      "File \u001b[1;32mD:\\Isaac\\Oxford\\Year 3\\B1 Engineering Computation\\Scientific Coding\\b1-coding-practical-mt24\\uuv_mission\\dynamic.py:124\u001b[0m, in \u001b[0;36mClosedLoop.simulate_with_random_disturbances\u001b[1;34m(self, mission, variance)\u001b[0m\n\u001b[0;32m    123\u001b[0m \u001b[38;5;28;01mdef\u001b[39;00m \u001b[38;5;21msimulate_with_random_disturbances\u001b[39m(\u001b[38;5;28mself\u001b[39m, mission: Mission, variance: \u001b[38;5;28mfloat\u001b[39m \u001b[38;5;241m=\u001b[39m \u001b[38;5;241m0.5\u001b[39m) \u001b[38;5;241m-\u001b[39m\u001b[38;5;241m>\u001b[39m Trajectory:\n\u001b[1;32m--> 124\u001b[0m     disturbances \u001b[38;5;241m=\u001b[39m np\u001b[38;5;241m.\u001b[39mrandom\u001b[38;5;241m.\u001b[39mnormal(\u001b[38;5;241m0\u001b[39m, variance, \u001b[38;5;28mlen\u001b[39m(\u001b[43mmission\u001b[49m\u001b[38;5;241;43m.\u001b[39;49m\u001b[43mreference\u001b[49m))\n\u001b[0;32m    125\u001b[0m     \u001b[38;5;28;01mreturn\u001b[39;00m \u001b[38;5;28mself\u001b[39m\u001b[38;5;241m.\u001b[39msimulate(mission, disturbances)\n",
      "\u001b[1;31mAttributeError\u001b[0m: 'NoneType' object has no attribute 'reference'"
     ]
    }
   ],
   "source": [
    "# Import relevant modules\n",
    "from uuv_mission import Submarine\n",
    "from uuv_mission import Mission\n",
    "from uuv_mission import ClosedLoop\n",
    "\n",
    "sub = Submarine()\n",
    "# Instantiate your controller (depending on your implementation)\n",
    "Kp = 0.15\n",
    "Kd = 0.6\n",
    "controller = [Kp, Kd]\n",
    "closed_loop = ClosedLoop(sub, controller)\n",
    "mission = Mission.from_csv(\"\\data\")\n",
    "\n",
    "trajectory = closed_loop.simulate_with_random_disturbances(mission)\n",
    "trajectory.plot_completed_mission(mission)"
   ]
  }
 ],
 "metadata": {
  "kernelspec": {
   "display_name": ".venv",
   "language": "python",
   "name": "python3"
  },
  "language_info": {
   "codemirror_mode": {
    "name": "ipython",
    "version": 3
   },
   "file_extension": ".py",
   "mimetype": "text/x-python",
   "name": "python",
   "nbconvert_exporter": "python",
   "pygments_lexer": "ipython3",
   "version": "3.13.0"
  }
 },
 "nbformat": 4,
 "nbformat_minor": 2
}
